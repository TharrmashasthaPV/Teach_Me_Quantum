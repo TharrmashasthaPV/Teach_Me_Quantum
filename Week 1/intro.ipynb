{
 "cells": [
  {
   "cell_type": "markdown",
   "metadata": {},
   "source": [
    "# Week 1\n",
    "Let us start by familiarising ourselves with some basic functionality of Qiskit which we shall be using over the coming weeks."
   ]
  },
  {
   "cell_type": "code",
   "execution_count": null,
   "metadata": {},
   "outputs": [],
   "source": [
    "#Import libraries required to create circuits\n",
    "from qiskit import QuantumCircuit, ClassicalRegister, QuantumRegister"
   ]
  },
  {
   "cell_type": "markdown",
   "metadata": {},
   "source": [
    "## Helper function to execute function locally"
   ]
  },
  {
   "cell_type": "code",
   "execution_count": null,
   "metadata": {},
   "outputs": [],
   "source": [
    "#Import libraries to run your circuit\n",
    "from qiskit import execute\n",
    "from qiskit import Aer\n",
    "from qiskit.tools.visualization import plot_histogram \n",
    "def classical(circuit):\n",
    "    circuit.draw(output = 'mpl')\n",
    "    #Get backend\n",
    "    backend = Aer.get_backend('qasm_simulator')\n",
    "    #Get results after execution\n",
    "    results = execute(circuit, backend).result()\n",
    "    plot_histogram(results.get_count(circuit)"
   ]
  },
  {
   "cell_type": "markdown",
   "metadata": {},
   "source": [
    "## Helper function to execute circuit remotely on IBM's quantum computers"
   ]
  },
  {
   "cell_type": "code",
   "execution_count": null,
   "metadata": {},
   "outputs": [],
   "source": [
    "#Load account credentials you saved in Question 1.\n",
    "from qiskit import IBMQ\n",
    "IBMQ.load_accounts()\n",
    "def quantum(circuit):\n",
    "    circuit.draw(output='mpl')\n",
    "    provider = IBMQ.get_provider('ibm-q')\n",
    "    quantum_comp = provider.get_backend('ibmq_16_melbourne')\n",
    "    result = execute(circuit, quantum_comp).result()\n",
    "    plot_histogram(results.get_count(circuit))"
   ]
  },
  {
   "cell_type": "markdown",
   "metadata": {},
   "source": [
    "## Building a circuit\n",
    "Let us build a basic circuit "
   ]
  },
  {
   "cell_type": "markdown",
   "metadata": {},
   "source": [
    "### Helper function to make a ciruit"
   ]
  },
  {
   "cell_type": "code",
   "execution_count": null,
   "metadata": {},
   "outputs": [],
   "source": [
    "def new_circuit(n):\n",
    "    return QuantumRegister(n), ClassicalRegister(n), QuantumCircuit(qr, qc)"
   ]
  },
  {
   "cell_type": "markdown",
   "metadata": {},
   "source": [
    "A basic circuit to test our helper functions."
   ]
  },
  {
   "cell_type": "code",
   "execution_count": null,
   "metadata": {},
   "outputs": [],
   "source": [
    "qr, qc, circuit = new_circuit(2)\n",
    "circuit.h(qr[0])\n",
    "cicruit.cx(qr[0], qr[1])\n",
    "circuit.measure(qr, qc)\n",
    "classical(circuit)"
   ]
  }
 ],
 "metadata": {
  "kernelspec": {
   "display_name": "Python 3",
   "language": "python",
   "name": "python3"
  },
  "language_info": {
   "codemirror_mode": {
    "name": "ipython",
    "version": 3
   },
   "file_extension": ".py",
   "mimetype": "text/x-python",
   "name": "python",
   "nbconvert_exporter": "python",
   "pygments_lexer": "ipython3",
   "version": "3.7.5"
  }
 },
 "nbformat": 4,
 "nbformat_minor": 2
}
