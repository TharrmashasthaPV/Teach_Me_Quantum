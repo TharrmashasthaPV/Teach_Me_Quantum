{
 "cells": [
  {
   "cell_type": "markdown",
   "metadata": {},
   "source": [
    "Import necessary packages."
   ]
  },
  {
   "cell_type": "code",
   "execution_count": 52,
   "metadata": {},
   "outputs": [],
   "source": [
    "import sklearn\n",
    "import sklearn.datasets\n",
    "import sklearn.metrics\n",
    "import sklearn.preprocessing\n",
    "import numpy as np\n",
    "import matplotlib.pyplot as plt\n",
    "from sklearn.ensemble import AdaBoostClassifier\n",
    "from sklearn.svm import SVC\n",
    "import dimod"
   ]
  },
  {
   "cell_type": "markdown",
   "metadata": {},
   "source": [
    "Classify two classes of half-moons"
   ]
  },
  {
   "cell_type": "code",
   "execution_count": 59,
   "metadata": {},
   "outputs": [
    {
     "data": {
      "image/png": "[encoded data removed]",
      "text/plain": [
       "<Figure size 432x288 with 1 Axes>"
      ]
     },
     "metadata": {
      "needs_background": "light"
     },
     "output_type": "display_data"
    }
   ],
   "source": [
    "scal = sklearn.preprocessing.StandardScaler()\n",
    "norm = sklearn.preprocessing.Normalizer()\n",
    "data,labels=sklearn.datasets.make_moons()\n",
    "index=np.arange(len(labels))\n",
    "# Shuffle the index\n",
    "np.random.shuffle(index)\n",
    "train1=index[:4*len(index)//5]\n",
    "test1=index[:1*len(index)//5]\n",
    "#Form the new train2 and test2 with train1 and test1\n",
    "train2=data[train1]\n",
    "test2=data[test1]\n",
    "# Apply scalar and normalizer fits \n",
    "train2=scal.fit_transform(train2)\n",
    "train2 = norm.fit_transform(train2)\n",
    "\n",
    "test2 = scal.fit_transform(test2)\n",
    "test2 = norm.fit_transform(test2)\n",
    "#\n",
    "final_train = 2 * labels[train1] - 1\n",
    "final_test = 2 * labels[test1] - 1\n",
    "plt.scatter(data[labels == 0, 0], data[labels == 0,1], color='red')\n",
    "plt.scatter(data[labels == 1, 0], data[labels == 1, 1], color='green');\n",
    "plt.show()"
   ]
  },
  {
   "cell_type": "code",
   "execution_count": 60,
   "metadata": {},
   "outputs": [
    {
     "name": "stdout",
     "output_type": "stream",
     "text": [
      "AdaBoostClassifier(algorithm='SAMME.R', base_estimator=None, learning_rate=1.0,\n",
      "                   n_estimators=5, random_state=None)\n",
      "Train accuracy:\n",
      "0.8875\n",
      "Test accuracy:\n",
      "0.8\n"
     ]
    }
   ],
   "source": [
    "metric = sklearn.metrics.accuracy_score\n",
    "model1 = AdaBoostClassifier(n_estimators=5) \n",
    "model1.fit(train2, final_train)\n",
    "print(model1)\n",
    "print('Train accuracy:')\n",
    "print((metric(final_train, model1.predict(train2))))\n",
    "print('Test accuracy:')\n",
    "print((metric(final_test, model1.predict(test2))))"
   ]
  },
  {
   "cell_type": "markdown",
   "metadata": {},
   "source": [
    "We see that the train and test accuracies are very close. AdaBoost has shown good performance. Now test using a support vector machine. "
   ]
  },
  {
   "cell_type": "code",
   "execution_count": 61,
   "metadata": {},
   "outputs": [
    {
     "name": "stdout",
     "output_type": "stream",
     "text": [
      "SVC(C=1.0, cache_size=200, class_weight=None, coef0=0.0,\n",
      "    decision_function_shape='ovr', degree=3, gamma='auto_deprecated',\n",
      "    kernel='rbf', max_iter=-1, probability=False, random_state=None,\n",
      "    shrinking=True, tol=0.001, verbose=False)\n",
      "Train accuracy:\n",
      "0.8875\n",
      "Test accuracy:\n",
      "0.85\n"
     ]
    },
    {
     "name": "stderr",
     "output_type": "stream",
     "text": [
      "C:\\ProgramData\\Anaconda3\\lib\\site-packages\\sklearn\\svm\\base.py:193: FutureWarning: The default value of gamma will change from 'auto' to 'scale' in version 0.22 to account better for unscaled features. Set gamma explicitly to 'auto' or 'scale' to avoid this warning.\n",
      "  \"avoid this warning.\", FutureWarning)\n"
     ]
    }
   ],
   "source": [
    "model2 = SVC()\n",
    "model2.fit(train2, final_train)\n",
    "print(model2)\n",
    "print('Train accuracy:')\n",
    "print((metric(final_train, model2.predict(train2))))\n",
    "print('Test accuracy:')\n",
    "print((metric(final_test, model2.predict(test2))))\n"
   ]
  },
  {
   "cell_type": "code",
   "execution_count": null,
   "metadata": {},
   "outputs": [],
   "source": []
  }
 ],
 "metadata": {
  "kernelspec": {
   "display_name": "Python 3",
   "language": "python",
   "name": "python3"
  },
  "language_info": {
   "codemirror_mode": {
    "name": "ipython",
    "version": 3
   },
   "file_extension": ".py",
   "mimetype": "text/x-python",
   "name": "python",
   "nbconvert_exporter": "python",
   "pygments_lexer": "ipython3",
   "version": "3.7.3"
  }
 },
 "nbformat": 4,
 "nbformat_minor": 2
}
