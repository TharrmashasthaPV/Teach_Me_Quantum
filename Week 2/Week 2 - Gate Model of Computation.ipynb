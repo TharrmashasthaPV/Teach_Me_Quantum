{
 "cells": [
  {
   "cell_type": "markdown",
   "metadata": {},
   "source": [
    "## Introduction to Quantum Computing"
   ]
  },
  {
   "cell_type": "markdown",
   "metadata": {},
   "source": [
    "### Creating an Entanglement"
   ]
  },
  {
   "cell_type": "markdown",
   "metadata": {},
   "source": [
    "Entanglement is an important resource in many algorithms and in quantum communication. First we will implement a circuit that will create an entanglement between the qubits."
   ]
  },
  {
   "cell_type": "code",
   "execution_count": 1,
   "metadata": {},
   "outputs": [
    {
     "name": "stdout",
     "output_type": "stream",
     "text": [
      "{'00': 508, '11': 516}\n"
     ]
    }
   ],
   "source": [
    "from qiskit import *\n",
    "\n",
    "\n",
    "#Creating a circuit and entangling the qubits.\n",
    "qc = QuantumCircuit(2,2)\n",
    "qc.h(0)\n",
    "qc.cx(0,1)\n",
    "\n",
    "\n",
    "#Measuring the qubits to check the values.\n",
    "qc.measure([0,1],[0,1])\n",
    "\n",
    "\n",
    "#Executing the circuit and obtaining the results.\n",
    "backend = Aer.get_backend(\"qasm_simulator\")\n",
    "qjob = execute(qc, backend)\n",
    "counts = qjob.result().get_counts()\n",
    "print(counts)"
   ]
  },
  {
   "cell_type": "markdown",
   "metadata": {},
   "source": [
    "We can see that all our outputs are either $|00\\rangle$ or $|11\\rangle$. Hence the qubits are in entanglement."
   ]
  },
  {
   "cell_type": "markdown",
   "metadata": {},
   "source": [
    "### Super Dense Coding"
   ]
  },
  {
   "cell_type": "markdown",
   "metadata": {},
   "source": [
    "Next we impement the super dense coding. Let the two bits of information Alice wants to send Bob be '11'."
   ]
  },
  {
   "cell_type": "code",
   "execution_count": 3,
   "metadata": {},
   "outputs": [
    {
     "name": "stdout",
     "output_type": "stream",
     "text": [
      "{'11': 4}\n"
     ]
    }
   ],
   "source": [
    "#Creating quantum register, classical register and quantm circuit.\n",
    "q = QuantumRegister(2)\n",
    "c = ClassicalRegister(2)\n",
    "qc = QuantumCircuit(q,c)\n",
    "\n",
    "\n",
    "#Creating the entanglement.\n",
    "qc.h(0)\n",
    "qc.cx(0,1)\n",
    "\n",
    "\n",
    "#Alice implementing the controlled-X and controlled-Z.\n",
    "qc.x(0)\n",
    "qc.z(1)\n",
    "\n",
    "\n",
    "#Bob implementing the rest of the circuit.\n",
    "qc.cx(0,1)\n",
    "qc.h(0)\n",
    "\n",
    "\n",
    "#Measuring the qubits to check the values.\n",
    "qc.measure([0,1],[0,1])\n",
    "\n",
    "\n",
    "#Executing the circuit and obtaining the results.\n",
    "backend = Aer.get_backend(\"qasm_simulator\")\n",
    "qjob = execute(qc, backend, shots=4)\n",
    "counts = qjob.result().get_counts()\n",
    "print(counts)"
   ]
  },
  {
   "cell_type": "markdown",
   "metadata": {},
   "source": [
    "The observed output is 11 which is the two bits of message that Alice wanted to send to Bob."
   ]
  },
  {
   "cell_type": "markdown",
   "metadata": {},
   "source": [
    "### Quantum Teleportation"
   ]
  },
  {
   "cell_type": "markdown",
   "metadata": {},
   "source": [
    "Finally we implement the quantum teleportation. Let us suppose Alice wants to send the state $|psi\\rangle = \\frac{\\big(|0\\rangle + |1\\rangle\\big)}{\\sqrt{2}}$."
   ]
  },
  {
   "cell_type": "code",
   "execution_count": 8,
   "metadata": {},
   "outputs": [
    {
     "name": "stdout",
     "output_type": "stream",
     "text": [
      "{'0': 100}\n"
     ]
    }
   ],
   "source": [
    "#Creating quantum register, classical register and quantm circuit.\n",
    "qr2 = QuantumRegister(3)\n",
    "cr2 = ClassicalRegister(1)\n",
    "qc2 = QuantumCircuit(qr2, cr2)\n",
    "\n",
    "\n",
    "#Creating an entangled pair.\n",
    "qc2.h(1)\n",
    "qc2.cx(1,2)\n",
    "\n",
    "\n",
    "#Creating the state to be teleported.\n",
    "qc2.h(0)\n",
    "\n",
    "\n",
    "#Operations performed by Alice\n",
    "qc2.cx(0,1)\n",
    "qc2.h(0)\n",
    "\n",
    "\n",
    "#Operations of Bob conditioned on the output of Alice's qubits.\n",
    "qc2.cx(1,2)\n",
    "qc2.cz(0,2)\n",
    "\n",
    "\n",
    "#To check if the received qubit state is the same that was\n",
    "#sent by Alice, we undo the operation that was used to create\n",
    "#the state to be teleported.\n",
    "qc2.h(2)\n",
    "qc2.measure(2,0)\n",
    "\n",
    "\n",
    "#Executing the circuit and obtaining the results.\n",
    "backend = BasicAer.get_backend(\"qasm_simulator\")\n",
    "qjob = execute(qc2, backend=backend, shots=100)\n",
    "counts = qjob.result().get_counts()\n",
    "print(counts)"
   ]
  },
  {
   "cell_type": "markdown",
   "metadata": {},
   "source": [
    "We can observe that we receive $|0\\rangle$. So Bob did get the exact state Alice intended to send."
   ]
  }
 ],
 "metadata": {
  "kernelspec": {
   "display_name": "Python 3",
   "language": "python",
   "name": "python3"
  },
  "language_info": {
   "codemirror_mode": {
    "name": "ipython",
    "version": 3
   },
   "file_extension": ".py",
   "mimetype": "text/x-python",
   "name": "python",
   "nbconvert_exporter": "python",
   "pygments_lexer": "ipython3",
   "version": "3.6.8"
  }
 },
 "nbformat": 4,
 "nbformat_minor": 2
}
