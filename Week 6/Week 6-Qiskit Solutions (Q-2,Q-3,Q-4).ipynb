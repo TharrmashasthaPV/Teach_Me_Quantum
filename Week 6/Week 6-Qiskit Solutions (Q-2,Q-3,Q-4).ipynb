{
 "cells": [
  {
   "cell_type": "markdown",
   "metadata": {},
   "source": [
    "Import the relevant packages"
   ]
  },
  {
   "cell_type": "code",
   "execution_count": 3,
   "metadata": {},
   "outputs": [],
   "source": [
    "from qiskit import *\n",
    "import dimod"
   ]
  },
  {
   "cell_type": "markdown",
   "metadata": {},
   "source": [
    "We first prove that the Pauli matrices do not commute. Create a quantum circuit. First apply X gate, then Z gate. Do the reverse and check for state vectors."
   ]
  },
  {
   "cell_type": "code",
   "execution_count": 7,
   "metadata": {},
   "outputs": [
    {
     "name": "stdout",
     "output_type": "stream",
     "text": [
      "[ 0.+0.j -1.+0.j]\n"
     ]
    }
   ],
   "source": [
    "backend = BasicAer.get_backend('statevector_simulator')\n",
    "circ=QuantumCircuit(1,1)\n",
    "circ.x(0)\n",
    "circ.z(0)\n",
    "job = execute(circ, backend)\n",
    "print(job.result().get_statevector(circ))"
   ]
  },
  {
   "cell_type": "code",
   "execution_count": 8,
   "metadata": {},
   "outputs": [
    {
     "name": "stdout",
     "output_type": "stream",
     "text": [
      "[0.+0.j 1.+0.j]\n"
     ]
    }
   ],
   "source": [
    "circ=QuantumCircuit(1,1)\n",
    "circ.z(0)\n",
    "circ.x(0)\n",
    "job = execute(circ, backend)\n",
    "print(job.result().get_statevector(circ))"
   ]
  },
  {
   "cell_type": "markdown",
   "metadata": {},
   "source": [
    "We thus see that the pauli X and Z matrices do not commute as we get different eigenvectors. We now attempt Q-3."
   ]
  },
  {
   "cell_type": "code",
   "execution_count": 14,
   "metadata": {},
   "outputs": [
    {
     "name": "stdout",
     "output_type": "stream",
     "text": [
      "[-12.5, -12.5, -12.5, -12.5, -12.5, -12.5, -12.5, -12.5, -12.5, -12.5, -12.5, -12.5, -12.5, -12.5, -12.5, -12.5, -12.5, -12.5, -12.5, -12.5]\n"
     ]
    }
   ],
   "source": [
    "import dimod\n",
    "# We initialize our C matrix and h row vector as given in the question.\n",
    "C = {(0, 1): -1.0, (1, 2): -2.0, (2, 3): -3.0}\n",
    "h = {0:3.0, 1:2.0, 2:1.0, 3:0.5}\n",
    "# Create a binary quadratic model i.e. an Ising model\n",
    "model = dimod.BinaryQuadraticModel(h, C, 0.0, dimod.SPIN)\n",
    "#Use a simulated annelaing sampler to find the optimal energy solutions and have 20 num_reads. \n",
    "sampler = dimod.SimulatedAnnealingSampler()\n",
    "response = sampler.sample(model, num_reads=20)\n",
    "print([solution.energy for solution in response.data()])"
   ]
  },
  {
   "cell_type": "markdown",
   "metadata": {},
   "source": [
    "We now solve Q-4. Form Pauli Z,X matrices and identity matrix"
   ]
  },
  {
   "cell_type": "code",
   "execution_count": 20,
   "metadata": {},
   "outputs": [
    {
     "name": "stdout",
     "output_type": "stream",
     "text": [
      "-3.5\n",
      "1.5\n",
      "2.5\n",
      "-0.5\n"
     ]
    }
   ],
   "source": [
    "import numpy as np\n",
    "\n",
    "#Here, we define our calc_expec function\n",
    "def calc_expec(H,init_state):\n",
    "    return np.dot(init_state.T.conj(),np.dot(H,init_state))\n",
    "\n",
    "#write the matrix form of gates\n",
    "pauli_Z=[[1,0],[0,-1]]\n",
    "pauli_X=[[0,1],[1,0]]\n",
    "I=[[1,0],[0,1]]\n",
    "#Form all tensor products required in the question\n",
    "IX=np.kron(I,pauli_X)\n",
    "XI=np.kron(pauli_X,I)\n",
    "IZ=np.kron(I,pauli_Z)\n",
    "ZI=np.kron(pauli_Z,I)\n",
    "ZZ=np.kron(pauli_Z,pauli_Z)\n",
    "#Form the Hamiltonian matrix\n",
    "H=-2*ZZ-ZI-0.5*IZ-0.5*XI-IX\n",
    "zero=[1,0]\n",
    "one=[0,1]\n",
    "#form the composite systems\n",
    "zero_zero=np.kron(zero,zero)\n",
    "zero_one=np.kron(zero,one)\n",
    "one_zero=np.kron(one,zero)\n",
    "one_one=np.kron(one,one)\n",
    "#calculate the expectation value now\n",
    "ans1=calc_expec(H,zero_zero)\n",
    "ans2=calc_expec(H,zero_one)\n",
    "ans3=calc_expec(H,one_zero)\n",
    "ans4=calc_expec(H,one_one)\n",
    "print(ans1)\n",
    "print(ans2)\n",
    "print(ans3)\n",
    "print(ans4)"
   ]
  },
  {
   "cell_type": "code",
   "execution_count": null,
   "metadata": {},
   "outputs": [],
   "source": []
  }
 ],
 "metadata": {
  "kernelspec": {
   "display_name": "Python 3",
   "language": "python",
   "name": "python3"
  },
  "language_info": {
   "codemirror_mode": {
    "name": "ipython",
    "version": 3
   },
   "file_extension": ".py",
   "mimetype": "text/x-python",
   "name": "python",
   "nbconvert_exporter": "python",
   "pygments_lexer": "ipython3",
   "version": "3.7.3"
  }
 },
 "nbformat": 4,
 "nbformat_minor": 2
}
