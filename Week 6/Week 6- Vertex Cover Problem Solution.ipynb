{
 "cells": [
  {
   "cell_type": "markdown",
   "metadata": {},
   "source": [
    "Let's import the relevant packages inititally. "
   ]
  },
  {
   "cell_type": "code",
   "execution_count": 17,
   "metadata": {},
   "outputs": [],
   "source": [
    "import matplotlib.pyplot as plt\n",
    "import matplotlib.axes as axes\n",
    "%matplotlib inline\n",
    "import numpy as np\n",
    "import networkx as nx\n",
    "from qiskit import BasicAer\n",
    "from qiskit.tools.visualization import plot_histogram\n",
    "from qiskit.aqua import Operator, run_algorithm\n",
    "from qiskit.aqua.input import EnergyInput\n",
    "from qiskit.aqua.translators.ising import max_cut, tsp\n",
    "from qiskit.aqua.algorithms import VQE, ExactEigensolver\n",
    "from qiskit.aqua.components.optimizers import SPSA\n",
    "from qiskit.aqua.components.variational_forms import RY\n",
    "from qiskit.aqua import QuantumInstance\n",
    "import logging\n",
    "from qiskit.aqua import set_qiskit_aqua_logging\n"
   ]
  },
  {
   "cell_type": "code",
   "execution_count": 18,
   "metadata": {},
   "outputs": [
    {
     "data": {
      "image/png": "[encoded data removed]",
      "text/plain": [
       "<Figure size 432x288 with 1 Axes>"
      ]
     },
     "metadata": {},
     "output_type": "display_data"
    },
    {
     "name": "stdout",
     "output_type": "stream",
     "text": [
      "[[0. 1. 1. 1.]\n",
      " [1. 0. 0. 0.]\n",
      " [1. 0. 0. 1.]\n",
      " [1. 0. 1. 0.]]\n"
     ]
    }
   ],
   "source": [
    "import networkx as nx\n",
    "import numpy as np\n",
    "import matplotlib.pyplot as plt\n",
    "#Create an instance of a graph\n",
    "G=nx.Graph()\n",
    "n=4\n",
    "G.add_nodes_from(np.arange(0,n,1))\n",
    "\n",
    "elist=[0,2,1.0],[0,1,1.0],[0,3,1.0],[2,3,1.0]\n",
    "G.add_weighted_edges_from(elist)\n",
    "colors=['r' for why in G.nodes()]\n",
    "nx.draw_networkx(G, node_color=colors,node_size=1000)\n",
    "plt.show()\n",
    "\n",
    "# Here, we create the adjacency matrix\n",
    "w=np.zeros([n,n])\n",
    "for i in range(n):\n",
    "    for j in range(n):\n",
    "        temp = G.get_edge_data(i,j,default=0)\n",
    "        if temp != 0:\n",
    "            w[i,j] = temp['weight'] \n",
    "  \n",
    "print(w)\n",
    "    "
   ]
  },
  {
   "cell_type": "code",
   "execution_count": 20,
   "metadata": {},
   "outputs": [
    {
     "name": "stdout",
     "output_type": "stream",
     "text": [
      "[[0.5, Pauli(z=[True, True, False, False], x=[False, False, False, False])], [0.5, Pauli(z=[False, True, False, False], x=[False, False, False, False])], [0.5, Pauli(z=[True, False, False, False], x=[False, False, False, False])], [0.5, Pauli(z=[False, False, False, False], x=[False, False, False, False])], [0.5, Pauli(z=[True, False, True, False], x=[False, False, False, False])], [0.5, Pauli(z=[False, False, True, False], x=[False, False, False, False])], [0.5, Pauli(z=[True, False, False, False], x=[False, False, False, False])], [0.5, Pauli(z=[False, False, False, False], x=[False, False, False, False])], [0.5, Pauli(z=[True, False, False, True], x=[False, False, False, False])], [0.5, Pauli(z=[False, False, False, True], x=[False, False, False, False])], [0.5, Pauli(z=[True, False, False, False], x=[False, False, False, False])], [0.5, Pauli(z=[False, False, False, False], x=[False, False, False, False])], [0.5, Pauli(z=[False, False, True, True], x=[False, False, False, False])], [0.5, Pauli(z=[False, False, False, True], x=[False, False, False, False])], [0.5, Pauli(z=[False, False, True, False], x=[False, False, False, False])], [0.5, Pauli(z=[False, False, False, False], x=[False, False, False, False])], [0.5, Pauli(z=[False, False, False, False], x=[False, False, False, False])], [-0.5, Pauli(z=[True, False, False, False], x=[False, False, False, False])], [0.5, Pauli(z=[False, False, False, False], x=[False, False, False, False])], [-0.5, Pauli(z=[False, True, False, False], x=[False, False, False, False])], [0.5, Pauli(z=[False, False, False, False], x=[False, False, False, False])], [-0.5, Pauli(z=[False, False, True, False], x=[False, False, False, False])], [0.5, Pauli(z=[False, False, False, False], x=[False, False, False, False])], [-0.5, Pauli(z=[False, False, False, True], x=[False, False, False, False])]]\n"
     ]
    },
    {
     "name": "stderr",
     "output_type": "stream",
     "text": [
      "C:\\ProgramData\\Anaconda3\\lib\\site-packages\\qiskit\\aqua\\operator.py:62: DeprecationWarning: The `Operator` class is deprecated and will be removed after 0.6. Use the class for each representation instead, including `MatrixOperator`, `WeightedPauliOperator` and `TPBGroupedWeightedPauliOperator`\n",
      "  DeprecationWarning)\n",
      "C:\\ProgramData\\Anaconda3\\lib\\site-packages\\qiskit\\aqua\\operator.py:369: DeprecationWarning: The `Operator` class is deprecated and will be removed after 0.6. Use the class for each representation instead, including `MatrixOperator`, `WeightedPauliOperator` and `TPBGroupedWeightedPauliOperator`\n",
      "  DeprecationWarning)\n",
      "C:\\ProgramData\\Anaconda3\\lib\\site-packages\\qiskit\\aqua\\operator.py:267: DeprecationWarning: The `Operator` class is deprecated and will be removed after 0.6. Use the class for each representation instead, including `MatrixOperator`, `WeightedPauliOperator` and `TPBGroupedWeightedPauliOperator`\n",
      "  DeprecationWarning)\n",
      "C:\\ProgramData\\Anaconda3\\lib\\site-packages\\qiskit\\aqua\\operator.py:616: DeprecationWarning: The `Operator` class is deprecated and will be removed after 0.6. Use the class for each representation instead, including `MatrixOperator`, `WeightedPauliOperator` and `TPBGroupedWeightedPauliOperator`\n",
      "  DeprecationWarning)\n",
      "C:\\ProgramData\\Anaconda3\\lib\\site-packages\\qiskit\\aqua\\operator.py:573: DeprecationWarning: The `Operator` class is deprecated and will be removed after 0.6. Use the class for each representation instead, including `MatrixOperator`, `WeightedPauliOperator` and `TPBGroupedWeightedPauliOperator`\n",
      "  DeprecationWarning)\n"
     ]
    }
   ],
   "source": [
    "from qiskit.aqua import Operator\n",
    "from qiskit.quantum_info import Pauli\n",
    "\n",
    "# Form your Qubit Hamiltonian for the vertex cover problem\n",
    "penalty=2.0\n",
    "def myHamiltonian(adj_matrix):\n",
    "    total_nodes=adj_matrix.shape[0]\n",
    "    offset=0\n",
    "    pauli_list=[]\n",
    "    for i in range(total_nodes):\n",
    "        for j in range(i):\n",
    "            if(adj_matrix[i,j]!=0):\n",
    "                z=np.zeros(total_nodes, dtype=bool)\n",
    "                x=np.zeros(total_nodes, dtype=bool)\n",
    "                z[i]=True\n",
    "                z[j]=True\n",
    "                pauli_list.append([0.25*penalty,Pauli(z,x)])\n",
    "                z=np.zeros(total_nodes, dtype=bool)\n",
    "                z[i]=True\n",
    "                pauli_list.append([0.25*penalty,Pauli(z,x)])\n",
    "                z=np.zeros(total_nodes, dtype=bool)\n",
    "                z[j]=True\n",
    "                pauli_list.append([0.25*penalty,Pauli(z,x)])\n",
    "                z=np.zeros(total_nodes, dtype=bool)\n",
    "                pauli_list.append([0.25*penalty,Pauli(z,x)])\n",
    "                \n",
    "                \n",
    "    # In the next for loop, we try to minimize the number of colored vertices since we are solving a minimal vertex cover problem.            \n",
    "    for i in range(total_nodes):\n",
    "        z=np.zeros(total_nodes, dtype=bool)\n",
    "        x=np.zeros(total_nodes, dtype=bool)\n",
    "        pauli_list.append([0.5,Pauli(z,x)]) \n",
    "        z=np.zeros(total_nodes, dtype=bool)\n",
    "        z[i]=True\n",
    "        pauli_list.append([-0.5,Pauli(z,x)])\n",
    "    print(pauli_list)\n",
    "    return Operator(paulis=pauli_list)\n",
    "\n",
    "\n",
    "qubitOp=myHamiltonian(w)\n",
    "\n",
    "algo_input = EnergyInput(qubitOp)"
   ]
  },
  {
   "cell_type": "code",
   "execution_count": 22,
   "metadata": {},
   "outputs": [
    {
     "name": "stderr",
     "output_type": "stream",
     "text": [
      "C:\\ProgramData\\Anaconda3\\lib\\site-packages\\qiskit\\aqua\\operator.py:467: DeprecationWarning: The `Operator` class is deprecated and will be removed after 0.6. Use the class for each representation instead, including `MatrixOperator`, `WeightedPauliOperator` and `TPBGroupedWeightedPauliOperator`\n",
      "  DeprecationWarning)\n",
      "C:\\ProgramData\\Anaconda3\\lib\\site-packages\\qiskit\\aqua\\algorithms\\adaptive\\vqe\\vqe.py:105: DeprecationWarning: operator_mode option is deprecated and it will be removed after 0.6. Now the operator has its own mode, no need extra info to tell the VQE.\n",
      "  \"Now the operator has its own mode, no need extra info to tell the VQE.\", DeprecationWarning)\n",
      "C:\\ProgramData\\Anaconda3\\lib\\site-packages\\qiskit\\aqua\\algorithms\\adaptive\\vqe\\vqe.py:117: DeprecationWarning: operator should be type of BaseOperator, Operator type is deprecated and it will be removed after 0.6.\n",
      "  \"it will be removed after 0.6.\", DeprecationWarning)\n",
      "C:\\ProgramData\\Anaconda3\\lib\\site-packages\\qiskit\\aqua\\operators\\op_converter.py:92: DeprecationWarning: The `Operator` class is deprecated. Please use `WeightedPauliOperator` or `TPBGroupedWeightedPauliOperator` or `MatrixOperator` instead\n",
      "  DeprecationWarning)\n",
      "C:\\ProgramData\\Anaconda3\\lib\\site-packages\\qiskit\\aqua\\operator.py:200: DeprecationWarning: The `Operator` class is deprecated and will be removed after 0.6. Use the class for each representation instead, including `MatrixOperator`, `WeightedPauliOperator` and `TPBGroupedWeightedPauliOperator`\n",
      "  DeprecationWarning)\n",
      "C:\\ProgramData\\Anaconda3\\lib\\site-packages\\qiskit\\aqua\\operator.py:951: DeprecationWarning: The `Operator` class is deprecated and will be removed after 0.6. Use the class for each representation instead, including `MatrixOperator`, `WeightedPauliOperator` and `TPBGroupedWeightedPauliOperator`\n",
      "  DeprecationWarning)\n"
     ]
    },
    {
     "name": "stdout",
     "output_type": "stream",
     "text": [
      "energy: 2.035967053800591\n",
      "time: 33.17231035232544\n",
      "weighted-min-vertex-cover objective: 2.035967053800591\n",
      "solution: [1. 0. 1. 0.]\n"
     ]
    },
    {
     "data": {
      "image/png": "[encoded data removed]",
      "text/plain": [
       "<Figure size 432x288 with 1 Axes>"
      ]
     },
     "metadata": {},
     "output_type": "display_data"
    }
   ],
   "source": [
    "seed = 10598\n",
    "#Choose a classical non-linear optimizer. We have chosen stochastic perturbation simultaneous approximation optimizer \n",
    "spsa = SPSA(max_trials=100)\n",
    "#Choose a trial parametrized circuit\n",
    "ry = RY(qubitOp.num_qubits,entanglement='full',entanglement_gate='cz')\n",
    "#Create an object of class VQE\n",
    "vqe = VQE(qubitOp, ry, spsa, 'matrix')\n",
    "#Choose a backend\n",
    "backend = BasicAer.get_backend('statevector_simulator')\n",
    "quantum_instance = QuantumInstance(backend, shots=1024,seed_simulator=seed, seed_transpiler=seed)\n",
    "result = vqe.run(quantum_instance)\n",
    "\n",
    "#print(result['opt_params'])\n",
    "# We use the sample_most_likely from the max_cut itself to choose for the eigenvector with the highest probability.\n",
    "x = max_cut.sample_most_likely(result['eigvecs'][0])\n",
    "print('energy:', result['energy'])\n",
    "print('time:', result['eval_time'])\n",
    "print('weighted-min-vertex-cover objective:', result['energy'])\n",
    "print('solution:', x)\n",
    "colors = ['r' if x[i] == 0 else 'b' for i in range(n)]\n",
    "nx.draw_networkx(G, node_color=colors, node_size=600, alpha = .8)\n"
   ]
  },
  {
   "cell_type": "markdown",
   "metadata": {},
   "source": [
    "Thus, we see that we have obtained the correct solution to the vertex cover problem using VQE. You can remove the warnings."
   ]
  }
 ],
 "metadata": {
  "kernelspec": {
   "display_name": "Python 3",
   "language": "python",
   "name": "python3"
  }
 },
 "nbformat": 4,
 "nbformat_minor": 2
}
