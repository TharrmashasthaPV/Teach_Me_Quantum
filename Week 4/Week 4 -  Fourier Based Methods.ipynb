{
 "cells": [
  {
   "cell_type": "code",
   "execution_count": 1,
   "metadata": {},
   "outputs": [],
   "source": [
    "#initialization\n",
    "import matplotlib.pyplot as plt\n",
    "%matplotlib inline\n",
    "import numpy as np\n",
    "import math\n",
    "\n",
    "# importing Qiskit\n",
    "from qiskit import IBMQ, BasicAer\n",
    "from qiskit.providers.ibmq import least_busy\n",
    "from qiskit import QuantumCircuit, ClassicalRegister, QuantumRegister, execute\n",
    "\n",
    "# import basic plot tools\n",
    "from qiskit.tools.visualization import plot_histogram"
   ]
  },
  {
   "cell_type": "markdown",
   "metadata": {},
   "source": [
    "#### Specifying the problem.\n",
    "We will consider a 2-qubit quantum phase estimation of a one-qubit state. <br>\n",
    "Let us take the unitary matrix to be the Pauli-Y gate. <br>\n",
    "We initialize three quantum registers, 1 for the state and 2 for the ancilla qubits. <br>\n",
    "We also initialize two classical registers to hold the measurement of the phase."
   ]
  },
  {
   "cell_type": "code",
   "execution_count": 2,
   "metadata": {},
   "outputs": [
    {
     "data": {
      "text/plain": [
       "<qiskit.extensions.standard.x.XGate at 0x1620de50>"
      ]
     },
     "execution_count": 2,
     "metadata": {},
     "output_type": "execute_result"
    }
   ],
   "source": [
    "q = QuantumRegister(3, 'q')\n",
    "c = ClassicalRegister(2, 'c')\n",
    "qpe = QuantumCircuit(q, c)\n",
    "\n",
    "# Initialize qubit 2 to be 1 by applying a Pauli-X gate\n",
    "qpe.x(q[2])"
   ]
  },
  {
   "cell_type": "markdown",
   "metadata": {},
   "source": [
    "#### Operations on the circuit\n",
    "\n",
    "We know that the Pauli gates are involutary.<br>\n",
    "U<sup>(2<sup>1</sup>)</sup> = Y<sup>2</sup> = I. Therefore, controlled unitary from q[0] is the identity matrix.<br>\n",
    "U<sup>(2<sup>0</sup>)</sup> = Y<sup>1</sup> = Y. Hence, controlled unitary from q[1] is a controlled-Y gate"
   ]
  },
  {
   "cell_type": "code",
   "execution_count": 3,
   "metadata": {},
   "outputs": [
    {
     "data": {
      "text/plain": [
       "<qiskit.extensions.standard.h.HGate at 0x1620dfb0>"
      ]
     },
     "execution_count": 3,
     "metadata": {},
     "output_type": "execute_result"
    }
   ],
   "source": [
    "qpe.h(q[0])\n",
    "qpe.h(q[1])"
   ]
  },
  {
   "cell_type": "code",
   "execution_count": 4,
   "metadata": {},
   "outputs": [],
   "source": [
    "qpe.cy(q[1], q[2]);"
   ]
  },
  {
   "cell_type": "code",
   "execution_count": 5,
   "metadata": {},
   "outputs": [],
   "source": [
    "# n-qubit Inverse-QFT on q in circuit circ.\n",
    "def qft_dagger(circ, q, n):\n",
    "    for j in range(n):\n",
    "        k = (n-1) - j\n",
    "        for m in range(k):\n",
    "            circ.cu1(-math.pi/float(2**(k-m)), q[k], q[m])\n",
    "        circ.h(q[k])"
   ]
  },
  {
   "cell_type": "code",
   "execution_count": 6,
   "metadata": {},
   "outputs": [
    {
     "data": {
      "text/plain": [
       "<qiskit.circuit.measure.Measure at 0x16228750>"
      ]
     },
     "execution_count": 6,
     "metadata": {},
     "output_type": "execute_result"
    }
   ],
   "source": [
    "qft_dagger(qpe, q, 2)\n",
    "qpe.measure(q[0],c[0])\n",
    "qpe.measure(q[1],c[1])"
   ]
  },
  {
   "cell_type": "markdown",
   "metadata": {},
   "source": [
    "#### Drawing the circuit"
   ]
  },
  {
   "cell_type": "code",
   "execution_count": 9,
   "metadata": {},
   "outputs": [
    {
     "data": {
      "text/html": [
       "<pre style=\"word-wrap: normal;white-space: pre;line-height: 15px;\">        ┌───┐             ┌───┐┌─┐   \n",
       "q_0: |0>┤ H ├────■────────┤ H ├┤M├───\n",
       "        ├───┤    │-1.5708 ├───┤└╥┘┌─┐\n",
       "q_1: |0>┤ H ├─■──■────────┤ H ├─╫─┤M├\n",
       "        ├───┤ │           └───┘ ║ └╥┘\n",
       "q_2: |0>┤ X ├─■─────────────────╫──╫─\n",
       "        └───┘                   ║  ║ \n",
       " c_0: 0 ════════════════════════╩══╬═\n",
       "                                   ║ \n",
       " c_1: 0 ═══════════════════════════╩═\n",
       "                                     </pre>"
      ],
      "text/plain": [
       "<qiskit.visualization.text.TextDrawing at 0x16552650>"
      ]
     },
     "execution_count": 9,
     "metadata": {},
     "output_type": "execute_result"
    }
   ],
   "source": [
    "qpe.draw(output=\"text\")"
   ]
  },
  {
   "cell_type": "code",
   "execution_count": 8,
   "metadata": {},
   "outputs": [
    {
     "data": {
      "image/png": "[encoded data removed]",
      "text/plain": [
       "<Figure size 504x360 with 1 Axes>"
      ]
     },
     "execution_count": 8,
     "metadata": {},
     "output_type": "execute_result"
    }
   ],
   "source": [
    "backend = BasicAer.get_backend('qasm_simulator')\n",
    "shots = 2048\n",
    "results = execute(qpe, backend=backend, shots=shots).result()\n",
    "answer = results.get_counts()\n",
    "plot_histogram(answer)"
   ]
  },
  {
   "cell_type": "markdown",
   "metadata": {},
   "source": [
    "#### Interpreting the output\n",
    "All Pauli matrices have eigenvalue 1 and -1.<br>\n",
    "The input state |1⟩ is an eigenvector with eigenvalue −1 = exp( 2πi × 0.5).<br> \n",
    "Hence,  θ=0.5  and  2<sup>n</sup>θ=2<sup>3</sup>  if we use  n=2  ancilla qubits."
   ]
  }
 ],
 "metadata": {
  "kernelspec": {
   "display_name": "Python 3",
   "language": "python",
   "name": "python3"
  },
  "language_info": {
   "codemirror_mode": {
    "name": "ipython",
    "version": 3
   },
   "file_extension": ".py",
   "mimetype": "text/x-python",
   "name": "python",
   "nbconvert_exporter": "python",
   "pygments_lexer": "ipython3",
   "version": "3.7.3"
  }
 },
 "nbformat": 4,
 "nbformat_minor": 2
}
