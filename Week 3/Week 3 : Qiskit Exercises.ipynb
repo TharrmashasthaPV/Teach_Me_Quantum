{
 "cells": [
  {
   "cell_type": "markdown",
   "metadata": {},
   "source": [
    "## Qiskit Exercises - Week 3"
   ]
  },
  {
   "cell_type": "markdown",
   "metadata": {},
   "source": [
    "### Question 1"
   ]
  },
  {
   "cell_type": "markdown",
   "metadata": {},
   "source": [
    "Let $f$ be a 4-bit Boolean function given by $f(x)=(x_1\\cdot x_2)\\oplus (x_3\\cdot x_4)$. Implement the oracle corresponding to this function as a quantum circuit."
   ]
  },
  {
   "cell_type": "markdown",
   "metadata": {},
   "source": [
    "### Question 2"
   ]
  },
  {
   "cell_type": "markdown",
   "metadata": {},
   "source": [
    "Using the oracle $\\text{oracle_0}$ given below, find if the function represented by the oracle $\\text{oracle_0}$ is balanced or constant. (Oracle takes 5 qubits as input, the first 4 qubits [0,1,2,3] belong to the query register and the qubit [4] is the output register)."
   ]
  },
  {
   "cell_type": "code",
   "execution_count": 1,
   "metadata": {},
   "outputs": [],
   "source": [
    "from qiskit import *"
   ]
  },
  {
   "cell_type": "code",
   "execution_count": 2,
   "metadata": {},
   "outputs": [],
   "source": [
    "orcl0 = QuantumCircuit(5)\n",
    "orcl0.x(3)\n",
    "orcl0.cx(2,4)\n",
    "orcl0.x(3)\n",
    "\n",
    "oracle_0 = orcl0.to_instruction()"
   ]
  },
  {
   "cell_type": "markdown",
   "metadata": {},
   "source": [
    "### Question 3"
   ]
  },
  {
   "cell_type": "markdown",
   "metadata": {},
   "source": [
    "Using the oracle constructed in  question 1, implement a quantum circuit by providing $|o\\otimes n\\rangle$ and $|a\\rangle = |0101\\rangle$ as input such that the resultant state is of the form $|\\psi\\rangle$ = $\\sum_y\\Big[\\sum_x (-1)^{f(x\\oplus a)}(-1)^{(x\\oplus a).y}\\Big]|y\\rangle$"
   ]
  },
  {
   "cell_type": "markdown",
   "metadata": {},
   "source": [
    "### Question 4"
   ]
  },
  {
   "cell_type": "markdown",
   "metadata": {},
   "source": [
    "Using the oracle $\\text{oracle_1}$ given below, use Grover's algorithm to find all the states $|a\\rangle$ for which $f(a)=1$. (Oracle takes 7 qubits as input, the first 4 qubits [0,1,2,3] belong to the query register, qubit [4] is the output register and qubits [5,6] are ancilla qubits.)"
   ]
  },
  {
   "cell_type": "code",
   "execution_count": 3,
   "metadata": {},
   "outputs": [],
   "source": [
    "orcl = QuantumCircuit(7)\n",
    "orcl.x(1)\n",
    "orcl.ccx(0,1,5)\n",
    "orcl.ccx(5,2,6)\n",
    "orcl.ccx(6,3,4)\n",
    "orcl.ccx(5,2,6)\n",
    "orcl.ccx(0,1,5)\n",
    "\n",
    "oracle_1 = orcl.to_instruction()"
   ]
  },
  {
   "cell_type": "markdown",
   "metadata": {},
   "source": [
    "### Question 5"
   ]
  },
  {
   "cell_type": "markdown",
   "metadata": {},
   "source": [
    "Using oracle $\\text{oracle_2}$ given below, use Simon's algorithm to find the hidden shift. (Oracle takes 8 qubits as input, the first 4 qubits [0,1,2,3] belong to the query register, qubits [4,5,6] belong to the output register and qubit [7] is an ancilla qubit.)"
   ]
  },
  {
   "cell_type": "code",
   "execution_count": 4,
   "metadata": {},
   "outputs": [],
   "source": [
    "orcl2 = QuantumCircuit(8)\n",
    "orcl2.x([1,2])\n",
    "orcl2.ccx(1,2,7)\n",
    "orcl2.ccx(3,7,6)\n",
    "orcl2.ccx(1,2,7)\n",
    "orcl2.x([1,2])\n",
    "orcl2.x([1,3])\n",
    "orcl2.ccx(1,2,7)\n",
    "orcl2.ccx(3,7,5)\n",
    "orcl2.ccx(1,2,7)\n",
    "orcl2.x([1,3])\n",
    "orcl2.x(1)\n",
    "orcl2.ccx(1,2,7)\n",
    "orcl2.ccx(3,7,5)\n",
    "orcl2.ccx(3,7,6)\n",
    "orcl2.ccx(1,2,7)\n",
    "orcl2.x(1)\n",
    "orcl2.x([2,3])\n",
    "orcl2.ccx(1,2,7)\n",
    "orcl2.ccx(3,7,4)\n",
    "orcl2.ccx(1,2,7)\n",
    "orcl2.x([2,3])\n",
    "orcl2.x(2)\n",
    "orcl2.ccx(1,2,7)\n",
    "orcl2.ccx(3,7,4)\n",
    "orcl2.ccx(3,7,6)\n",
    "orcl2.ccx(1,2,7)\n",
    "orcl2.x(2)\n",
    "orcl2.x(3)\n",
    "orcl2.ccx(1,2,7)\n",
    "orcl2.ccx(3,7,4)\n",
    "orcl2.ccx(3,7,5)\n",
    "orcl2.ccx(1,2,7)\n",
    "orcl2.x(3)\n",
    "orcl2.ccx(1,2,7)\n",
    "orcl2.ccx(3,7,4)\n",
    "orcl2.ccx(3,7,5)\n",
    "orcl2.ccx(3,7,6)\n",
    "orcl2.ccx(1,2,7)\n",
    "\n",
    "oracle_2 = orcl2.to_instruction()"
   ]
  }
 ],
 "metadata": {
  "kernelspec": {
   "display_name": "Python 3",
   "language": "python",
   "name": "python3"
  },
  "language_info": {
   "codemirror_mode": {
    "name": "ipython",
    "version": 3
   },
   "file_extension": ".py",
   "mimetype": "text/x-python",
   "name": "python",
   "nbconvert_exporter": "python",
   "pygments_lexer": "ipython3",
   "version": "3.6.8"
  }
 },
 "nbformat": 4,
 "nbformat_minor": 2
}
