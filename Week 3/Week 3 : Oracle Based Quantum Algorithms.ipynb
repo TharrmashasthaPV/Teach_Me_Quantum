{
 "cells": [
  {
   "cell_type": "markdown",
   "metadata": {},
   "source": [
    "# Week 3 : Oracle Based Quantum Algorithms"
   ]
  },
  {
   "cell_type": "markdown",
   "metadata": {},
   "source": [
    "In this notebook we will provide qiskit codes for the algorithms discussed in the slides of chapter 3."
   ]
  },
  {
   "cell_type": "markdown",
   "metadata": {},
   "source": [
    "## Deutsch Algorithm"
   ]
  },
  {
   "cell_type": "markdown",
   "metadata": {},
   "source": [
    "Deutsch algorithm is one of the first oracle based quantum algorithms. Given an 1-bit input 1-bit output Boolean function $f$, Deutsch algorithms gives a method to find if the function is balanced or constant. Here we implement the circuit for the Deutsch Algorithm. We assume that we are given an oracle for the function $f_s$ = [ $f$(0) , $f$(1) ] = [ 1 , 1 ] (which we will create ourselves)."
   ]
  },
  {
   "cell_type": "code",
   "execution_count": 1,
   "metadata": {},
   "outputs": [],
   "source": [
    "from qiskit import *\n",
    "from qiskit import Aer, BasicAer"
   ]
  },
  {
   "cell_type": "code",
   "execution_count": 2,
   "metadata": {},
   "outputs": [
    {
     "name": "stdout",
     "output_type": "stream",
     "text": [
      "{'0': 1024}\n"
     ]
    }
   ],
   "source": [
    "#Building the oracle.\n",
    "orcl = QuantumCircuit(2)\n",
    "orcl.x(1)\n",
    "oracle = orcl.to_instruction()\n",
    "\n",
    "#Initializing quantum register, classical register and creating a quantum circuit.\n",
    "q = QuantumRegister(2)\n",
    "c = ClassicalRegister(1)\n",
    "qc = QuantumCircuit(q,c)\n",
    "\n",
    "\n",
    "#Building the circuit for Deutsch algorithm.\n",
    "qc.x(q[1])\n",
    "qc.h([q[0],q[1]])\n",
    "qc.append(oracle, [q[0],q[1]])\n",
    "qc.h([q[0],q[1]])\n",
    "qc.measure(q[0],c[0])\n",
    "\n",
    "\n",
    "#Executing the circuit and obtaining the results.\n",
    "backend = Aer.get_backend(\"qasm_simulator\")\n",
    "qjob = execute(qc, backend)\n",
    "counts = qjob.result().get_counts()\n",
    "print(counts)"
   ]
  },
  {
   "cell_type": "markdown",
   "metadata": {},
   "source": [
    "We can see that the output is 0. Hence the function encoded in the oracle is constant which is indeed true since the function in the oracle is $f_s$ = [ 1 , 1 ]."
   ]
  },
  {
   "cell_type": "markdown",
   "metadata": {},
   "source": [
    "### Deutsch-Jozsa Algorithm"
   ]
  },
  {
   "cell_type": "markdown",
   "metadata": {},
   "source": [
    "In this section we will take time to implement the generaliztion of the Deutsch algorithm which is Deutsch-Jozsa algorithm (or shortly DJ algorithm). Given an n-bit Boolean function $f$ with the promise that $f$ is either balanced or constant, DJ algorithm outputs if $f$ is one or the other in just one oracle call."
   ]
  },
  {
   "cell_type": "markdown",
   "metadata": {},
   "source": [
    "For the implementation of the DJ algorithm, let us assume that we are given the oracle for the 3-bit Boolean funtion $f_s$ = [ 0, 1, 0, 1, 1, 0, 1, 0] (which again we will create ourselves)."
   ]
  },
  {
   "cell_type": "code",
   "execution_count": 3,
   "metadata": {},
   "outputs": [
    {
     "name": "stdout",
     "output_type": "stream",
     "text": [
      "{'101': 100}\n"
     ]
    }
   ],
   "source": [
    "#Building the oracle.\n",
    "orcl2 = QuantumCircuit(5)\n",
    "orcl2.x(0)\n",
    "orcl2.ccx(0,2,3)\n",
    "orcl2.x(0)\n",
    "orcl2.x(2)\n",
    "orcl2.ccx(0,2,3)\n",
    "orcl2.x(2)\n",
    "oracle2 = orcl2.to_instruction()\n",
    "\n",
    "\n",
    "#Initializing quantum register, classical register and creating quantum circuit\n",
    "q2 = QuantumRegister(5)\n",
    "c2 = ClassicalRegister(3)\n",
    "qc2 = QuantumCircuit(q2, c2)\n",
    "\n",
    "\n",
    "#Building the circuit for DJ.\n",
    "qc2.x(3)\n",
    "qc2.h([0,1,2,3])\n",
    "qc2.append(oracle2, q2)\n",
    "qc2.h([0,1,2])\n",
    "for i in range(3):\n",
    "    qc2.measure(i,2-i)\n",
    "\n",
    "\n",
    "#Executing the circuit and obtaining the results.\n",
    "backend = BasicAer.get_backend(\"qasm_simulator\")\n",
    "qjob = execute(qc2, backend=backend, shots=100)\n",
    "counts = qjob.result().get_counts()\n",
    "print(counts)"
   ]
  },
  {
   "cell_type": "markdown",
   "metadata": {},
   "source": [
    "Here we see that the output is non-zero and hence the function is balanced."
   ]
  },
  {
   "cell_type": "markdown",
   "metadata": {},
   "source": [
    "### Grover's Algorithm"
   ]
  },
  {
   "cell_type": "markdown",
   "metadata": {},
   "source": [
    "Next we will implement Grover's algorithm on simulator. Despite availability of Grover class in qiskit aqua, to have a better understanding of the implementation of the algorithm, we will first implement Grover's algorithm from scratch and then we will compare the results with the results of the implementation using Grover class of qiskit."
   ]
  },
  {
   "cell_type": "code",
   "execution_count": 4,
   "metadata": {},
   "outputs": [],
   "source": [
    "#Constructing the oracle.\n",
    "g_orcl = QuantumCircuit(3)\n",
    "g_orcl.ccx(0,1,2)\n",
    "g_oracle = g_orcl.to_instruction()"
   ]
  },
  {
   "cell_type": "markdown",
   "metadata": {},
   "source": [
    "The above oracle marks the state $|11\\rangle$ i.e, we flip the ancilla qubit from 0 to 1 if the state in the first register is $|11\\rangle$. Let us assume that the oracle has been given. Let the marked item be our item of interest. Then the probability of obtaining the marked state without any iteration of Grover's algorithm is $\\sin^{2}(\\theta) = \\sin^{2}(\\pi/6) = 1/4$."
   ]
  },
  {
   "cell_type": "code",
   "execution_count": 5,
   "metadata": {},
   "outputs": [
    {
     "name": "stdout",
     "output_type": "stream",
     "text": [
      "{'01 0': 19, '10 0': 28, '00 0': 30, '11 1': 23}\n"
     ]
    }
   ],
   "source": [
    "#Creating quantum register, classical register and quantm circuit\n",
    "q3 = QuantumRegister(3)\n",
    "c3 = ClassicalRegister(2)\n",
    "c3_a = ClassicalRegister(1)\n",
    "qc3 = QuantumCircuit(q3,c3_a, c3)\n",
    "\n",
    "\n",
    "#Building the circuit that marks the item of interest.\n",
    "qc3.h([0,1])\n",
    "qc3.append(g_oracle,q3)\n",
    "qc3.measure(q3[0],c3[1])\n",
    "qc3.measure(q3[1],c3[0])\n",
    "qc3.measure(q3[2],c3_a[0])\n",
    "\n",
    "\n",
    "#Executing the circuit and obtaining the results.\n",
    "backend = BasicAer.get_backend(\"qasm_simulator\")\n",
    "qjob = execute(qc3, backend=backend, shots=100)\n",
    "counts = qjob.result().get_counts()\n",
    "print(counts)"
   ]
  },
  {
   "cell_type": "markdown",
   "metadata": {},
   "source": [
    "We can see that the ancilla bit (the single bit) is 1 with probability 1/4 as expected."
   ]
  },
  {
   "cell_type": "markdown",
   "metadata": {},
   "source": [
    "Now let us construct the circuit with one Grover's iteration."
   ]
  },
  {
   "cell_type": "code",
   "execution_count": 6,
   "metadata": {},
   "outputs": [
    {
     "name": "stdout",
     "output_type": "stream",
     "text": [
      "{'11 1': 1024}\n"
     ]
    }
   ],
   "source": [
    "#Creating quantum register, classical register and quantm circuit\n",
    "q3 = QuantumRegister(3)\n",
    "c3 = ClassicalRegister(2)\n",
    "c3_a = ClassicalRegister(1)\n",
    "qc3 = QuantumCircuit(q3,c3_a, c3)\n",
    "\n",
    "\n",
    "#Constructing a circuit that marks all non-zero items.\n",
    "mk_0 = QuantumCircuit(3)\n",
    "mk_0.x([0,1])\n",
    "mk_0.ccx(0,1,2)\n",
    "mk_0.x([0,1])\n",
    "mk_0.x(2)\n",
    "mark_0 = mk_0.to_instruction()\n",
    "\n",
    "\n",
    "#Building the circuit that marks the item of interest.\n",
    "qc3.x(2)\n",
    "qc3.h([0,1,2])\n",
    "qc3.append(g_oracle, q3)\n",
    "qc3.h([0,1])\n",
    "qc3.append(mark_0, q3)\n",
    "qc3.h([0,1])\n",
    "qc3.h(2)\n",
    "\n",
    "\n",
    "#Measuring the qubits.\n",
    "qc3.measure(q3[0],c3[1])\n",
    "qc3.measure(q3[1],c3[0])\n",
    "qc3.measure(q3[2],c3_a[0])\n",
    "\n",
    "\n",
    "from qiskit import Aer\n",
    "#Executing the circuit and obtaining the results.\n",
    "backend = Aer.get_backend(\"qasm_simulator\")\n",
    "qjob = execute(qc3, backend=backend)\n",
    "counts = qjob.result().get_counts()\n",
    "print(counts)"
   ]
  },
  {
   "cell_type": "markdown",
   "metadata": {},
   "source": [
    "We can see that after just one Grover iteration, the probability of obtaining the state $|11\\rangle$ changes from $\\sin(\\pi/6) = 1/4$ to $\\sin(3(\\pi/6)) = \\sin(\\pi/2) = 1$."
   ]
  },
  {
   "cell_type": "markdown",
   "metadata": {},
   "source": [
    "### Simon's Algorithm"
   ]
  },
  {
   "cell_type": "markdown",
   "metadata": {},
   "source": [
    "Given an oracle for a function $f$ with the promise that $f(x)=f(y)$ if and only if $x=y\\oplus s$ for some fixed $s$, Simon's algorithm helps us find the shift $s$. Let us first construct an oracle of the function given by $f_s = [ 001, 010, 001, 010, 101, 111, 101, 111 ]$ where the shift $s$ is $010$."
   ]
  },
  {
   "cell_type": "code",
   "execution_count": 7,
   "metadata": {},
   "outputs": [],
   "source": [
    "#Constructing the oracle.\n",
    "s_orcl = QuantumCircuit(6)\n",
    "s_orcl.x([0,2])\n",
    "s_orcl.ccx(0,2,5)\n",
    "s_orcl.x(2)\n",
    "s_orcl.ccx(0,2,4)\n",
    "s_orcl.x(0)\n",
    "s_orcl.x(2)\n",
    "s_orcl.ccx(0,2,3)\n",
    "s_orcl.ccx(0,2,5)\n",
    "s_orcl.x(2)\n",
    "s_orcl.ccx(0,2,3)\n",
    "s_orcl.ccx(0,2,4)\n",
    "s_orcl.ccx(0,2,5)\n",
    "\n",
    "s_oracle = s_orcl.to_instruction()"
   ]
  },
  {
   "cell_type": "markdown",
   "metadata": {},
   "source": [
    "Next we construct the circuit for Simon's algorithm."
   ]
  },
  {
   "cell_type": "code",
   "execution_count": 8,
   "metadata": {},
   "outputs": [
    {
     "name": "stdout",
     "output_type": "stream",
     "text": [
      "{'100': 1, '001': 3, '101': 5, '000': 1}\n"
     ]
    }
   ],
   "source": [
    "#Creating quantum register, classical register and quantm circuit\n",
    "q4 = QuantumRegister(6)\n",
    "c4 = ClassicalRegister(3)\n",
    "qc4 = QuantumCircuit(q4,c4)\n",
    "\n",
    "\n",
    "#Implementing the Simon's algorithm\n",
    "qc4.h([0,1,2])\n",
    "qc4.append(s_oracle,q4)\n",
    "qc4.h([0,1,2])\n",
    "\n",
    "\n",
    "#Measuring the qubits\n",
    "for i in range(3):\n",
    "    qc4.measure(i,2-i)\n",
    "\n",
    "    \n",
    "#Executing the circuit and obtaining the results.\n",
    "backend = Aer.get_backend(\"qasm_simulator\")\n",
    "qjob = execute(qc4, backend=backend,shots=10)\n",
    "counts = qjob.result().get_counts()\n",
    "print(counts)"
   ]
  },
  {
   "cell_type": "markdown",
   "metadata": {},
   "source": [
    "We can see that we have obtained the states $|000\\rangle, |001\\rangle, |100\\rangle$ and $|101\\rangle$. So let us take $y_0=001$ and $y_1=100$. We cannot take the $y_i=101$ because 101 is a linear combination of $001$ and $100$ Solving for the system of equations $y.s$=0, we get two bits $s_0=0$ and $s_2=0$ of $s$. For the bit $s_1$, we can see that we have not obtained all possible values as output. Hence, the shift $s$ is non-zero. So we can conclude that the shift $s$ is $010$."
   ]
  }
 ],
 "metadata": {
  "kernelspec": {
   "display_name": "Python 3",
   "language": "python",
   "name": "python3"
  },
  "language_info": {
   "codemirror_mode": {
    "name": "ipython",
    "version": 3
   },
   "file_extension": ".py",
   "mimetype": "text/x-python",
   "name": "python",
   "nbconvert_exporter": "python",
   "pygments_lexer": "ipython3",
   "version": "3.6.8"
  }
 },
 "nbformat": 4,
 "nbformat_minor": 2
}
